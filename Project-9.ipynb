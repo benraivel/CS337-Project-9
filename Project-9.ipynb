{
 "cells": [
  {
   "cell_type": "markdown",
   "metadata": {},
   "source": [
    "# CS337 Project 9"
   ]
  },
  {
   "cell_type": "markdown",
   "metadata": {},
   "source": [
    "### "
   ]
  },
  {
   "cell_type": "code",
   "execution_count": null,
   "metadata": {},
   "outputs": [],
   "source": [
    "import raid\n",
    "\n",
    "def init_fs():\n",
    "    '''\n",
    "    create a 'filesystem' i.e. write a bunch of files on to RAID\n",
    "    '''\n",
    "\n",
    "def test_RAID(scheduling_alg):\n",
    "    '''\n",
    "    creates a RAID utilizing schenduling alg for the disks\n",
    "    send a RAID a bunch of read/modify/creation/deletion requests\n",
    "    '''\n",
    "\n",
    "    myRAID = raid.RAID0()\n"
   ]
  },
  {
   "cell_type": "code",
   "execution_count": 1,
   "metadata": {},
   "outputs": [
    {
     "name": "stdout",
     "output_type": "stream",
     "text": [
      "[('file0', 10), ('file1', 8), ('file2', 14), ('file3', 9), ('file4', 15)]\n"
     ]
    }
   ],
   "source": [
    "import random\n",
    "\n",
    "file_table = []\n",
    "\n",
    "for i in range(50):\n",
    "\n",
    "    file_table.append(('file' + str(i), random.randint(1, 20)))\n",
    "\n",
    "print(file_table[:5])\n"
   ]
  },
  {
   "cell_type": "code",
   "execution_count": null,
   "metadata": {},
   "outputs": [],
   "source": [
    "def generate_requests(file_list, n, freq, seq_dir_ratio, read_mkrm_ratio):\n",
    "    '''\n",
    "    generate a series of requests over time\n",
    "    '''\n",
    "    \n",
    "    request_table = []\n",
    "    \n",
    "    for i in range(n):\n"
   ]
  }
 ],
 "metadata": {
  "interpreter": {
   "hash": "b8bdd4e700647ba2b08c59e5df8b7da1dcf50a218bcd4c1bcd9b3dc92e8788e5"
  },
  "kernelspec": {
   "display_name": "Python 3.9.6 64-bit",
   "language": "python",
   "name": "python3"
  },
  "language_info": {
   "codemirror_mode": {
    "name": "ipython",
    "version": 3
   },
   "file_extension": ".py",
   "mimetype": "text/x-python",
   "name": "python",
   "nbconvert_exporter": "python",
   "pygments_lexer": "ipython3",
   "version": "3.9.6"
  },
  "orig_nbformat": 4
 },
 "nbformat": 4,
 "nbformat_minor": 2
}
